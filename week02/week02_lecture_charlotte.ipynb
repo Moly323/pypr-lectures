{
 "cells": [
  {
   "cell_type": "markdown",
   "metadata": {
    "slideshow": {
     "slide_type": "slide"
    }
   },
   "source": [
    "# Week 2 session - Review: Python basics\n",
    "\n",
    "Useful documentation: [https://docs.python.org/3/library/index.html](https://docs.python.org/3/library/index.html)"
   ]
  },
  {
   "cell_type": "code",
   "execution_count": 1,
   "metadata": {},
   "outputs": [
    {
     "name": "stdout",
     "output_type": "stream",
     "text": [
      "Welcome to week 2!\n"
     ]
    }
   ],
   "source": [
    "print('Welcome to week 2!')\n"
   ]
  },
  {
   "cell_type": "markdown",
   "metadata": {
    "slideshow": {
     "slide_type": "slide"
    }
   },
   "source": [
    "## Variable assignment\n",
    "\n",
    "What will be the output?"
   ]
  },
  {
   "cell_type": "code",
   "execution_count": 2,
   "metadata": {},
   "outputs": [
    {
     "name": "stdout",
     "output_type": "stream",
     "text": [
      "10 8 10 12 10\n",
      "10 , 8\n",
      "10, 8\n"
     ]
    }
   ],
   "source": [
    "# Defining our variables\n",
    "a = 4*2\n",
    "b = a\n",
    "a += 2\n",
    "# a = a + 2\n",
    "\n",
    "# Display the values of a and b\n",
    "print(a, b, a, a + 2, b + 2)\n",
    "\n",
    "# Show 10, 8\n",
    "print(a, ',', b)\n",
    "print(f'{a}, {b}')"
   ]
  },
  {
   "cell_type": "markdown",
   "metadata": {
    "slideshow": {
     "slide_type": "slide"
    }
   },
   "source": [
    "## Strings\n",
    "\n",
    "What will be the output?"
   ]
  },
  {
   "cell_type": "code",
   "execution_count": 3,
   "metadata": {},
   "outputs": [
    {
     "name": "stdout",
     "output_type": "stream",
     "text": [
      "Maariya\n",
      "Tommy\n",
      "False\n",
      "TommyJia\n"
     ]
    }
   ],
   "source": [
    "name_A = 'Maariya'\n",
    "name_B = 'Tommy'\n",
    "name_C = 'Jia'\n",
    "\n",
    "print(name_A)\n",
    "\n",
    "print(max(name_A, name_B, name_C))\n",
    "print(name_A > name_B)\n",
    "print(name_B + name_C)"
   ]
  },
  {
   "cell_type": "markdown",
   "metadata": {
    "slideshow": {
     "slide_type": "slide"
    }
   },
   "source": [
    "## Formatted strings (f-strings)\n",
    "\n",
    "[Documentation on f-strings](https://docs.python.org/3/tutorial/inputoutput.html#formatted-string-literals)\n",
    "\n",
    "`Maariya's flatmates are Tommy and Jia.`"
   ]
  },
  {
   "cell_type": "code",
   "execution_count": 2,
   "metadata": {},
   "outputs": [
    {
     "name": "stdout",
     "output_type": "stream",
     "text": [
      "First line\n",
      "Second line\n",
      "Third line\n"
     ]
    }
   ],
   "source": [
    "name_A = 'Maariya'\n",
    "name_B = 'Charlotte'\n",
    "name_C = 'Jia'\n",
    "\n",
    "print('First line\\nSecond line\\nThird line')"
   ]
  },
  {
   "cell_type": "code",
   "execution_count": 4,
   "metadata": {},
   "outputs": [
    {
     "name": "stdout",
     "output_type": "stream",
     "text": [
      "Maariya's flatmates are Charlotte and Jia.\n",
      "Maariya's flatmates are Charlotte and Jia.\n",
      "Maariya's flatmates are Charlotte and Jia.\n"
     ]
    }
   ],
   "source": [
    "print(f'{name_A}\\'s flatmates are {name_B} and {name_C}.')\n",
    "print(f\"{name_A}'s flatmates are {name_B} and {name_C}.\")\n",
    "print('{0}\\'s flatmates are {1} and {2}.'.format(name_A, name_B, name_C))"
   ]
  },
  {
   "cell_type": "markdown",
   "metadata": {
    "slideshow": {
     "slide_type": "slide"
    }
   },
   "source": [
    "`Room X is the largest.`"
   ]
  },
  {
   "cell_type": "code",
   "execution_count": 7,
   "metadata": {},
   "outputs": [],
   "source": [
    "# Room areas in square metres\n",
    "room_A, room_B, room_C = 6, 11.3, 8.2\n",
    "\n",
    "# room_A = 6\n",
    "# room_B = 11.3\n",
    "# room_C = 8.2"
   ]
  },
  {
   "cell_type": "code",
   "execution_count": 6,
   "metadata": {},
   "outputs": [
    {
     "name": "stdout",
     "output_type": "stream",
     "text": [
      "11.3\n"
     ]
    }
   ],
   "source": [
    "biggest_area = max(room_A, room_B, room_C)\n",
    "print(biggest_area)"
   ]
  },
  {
   "cell_type": "code",
   "execution_count": 8,
   "metadata": {},
   "outputs": [
    {
     "name": "stdout",
     "output_type": "stream",
     "text": [
      "[6, 11.3, 8.2]\n",
      "6\n",
      "6\n"
     ]
    }
   ],
   "source": [
    "# Let's make a list of rooms:\n",
    "list_of_rooms = [room_A, room_B, room_C]\n",
    "print(list_of_rooms)\n",
    "print(room_A)\n",
    "print(list_of_rooms[0])"
   ]
  },
  {
   "cell_type": "code",
   "execution_count": 9,
   "metadata": {},
   "outputs": [
    {
     "name": "stdout",
     "output_type": "stream",
     "text": [
      "11.3\n",
      "1\n"
     ]
    }
   ],
   "source": [
    "print(max(list_of_rooms))\n",
    "biggest_room = max(list_of_rooms)\n",
    "\n",
    "room_index = list_of_rooms.index(biggest_room)\n",
    "print(room_index)"
   ]
  },
  {
   "cell_type": "code",
   "execution_count": 10,
   "metadata": {},
   "outputs": [
    {
     "name": "stdout",
     "output_type": "stream",
     "text": [
      "Maariya's room is the largest.\n"
     ]
    }
   ],
   "source": [
    "name_A = 'Maariya'\n",
    "name_B = 'Charlotte'\n",
    "name_C = 'Jia'\n",
    "\n",
    "names = [name_A, name_B, name_C]\n",
    "\n",
    "luckiest_flatmate = names[room_index]\n",
    "print(f'{luckiest_flatmate}\\'s room is the largest.')"
   ]
  },
  {
   "cell_type": "code",
   "execution_count": null,
   "metadata": {},
   "outputs": [],
   "source": []
  },
  {
   "cell_type": "markdown",
   "metadata": {
    "slideshow": {
     "slide_type": "slide"
    }
   },
   "source": [
    "`X's room is the largest.`"
   ]
  },
  {
   "cell_type": "code",
   "execution_count": 2,
   "metadata": {},
   "outputs": [
    {
     "ename": "NameError",
     "evalue": "name 'name_A' is not defined",
     "output_type": "error",
     "traceback": [
      "\u001b[0;31m---------------------------------------------------------------------------\u001b[0m",
      "\u001b[0;31mNameError\u001b[0m                                 Traceback (most recent call last)",
      "Cell \u001b[0;32mIn[2], line 3\u001b[0m\n\u001b[1;32m      1\u001b[0m room_A, room_B, room_C \u001b[38;5;241m=\u001b[39m \u001b[38;5;241m6\u001b[39m, \u001b[38;5;241m11.3\u001b[39m, \u001b[38;5;241m8.2\u001b[39m\n\u001b[1;32m      2\u001b[0m list_of_rooms \u001b[38;5;241m=\u001b[39m [room_A, room_B, room_C]\n\u001b[0;32m----> 3\u001b[0m list_of_rooms_name \u001b[38;5;241m=\u001b[39m [\u001b[43mname_A\u001b[49m, name_B, name_C]\n\u001b[1;32m      4\u001b[0m biggest_room \u001b[38;5;241m=\u001b[39m \u001b[38;5;28mmax\u001b[39m(list_of_rooms)\n\u001b[1;32m      5\u001b[0m index_biggest \u001b[38;5;241m=\u001b[39m list_of_rooms\u001b[38;5;241m.\u001b[39mindex(biggest_room)\n",
      "\u001b[0;31mNameError\u001b[0m: name 'name_A' is not defined"
     ]
    }
   ],
   "source": [
    "room_A, room_B, room_C = 6, 11.3, 8.2\n",
    "list_of_rooms = [room_A, room_B, room_C]\n",
    "list_of_rooms_name = [name_A, name_B, name_C]\n",
    "biggest_room = max(list_of_rooms)\n",
    "index_biggest = list_of_rooms.index(biggest_room)\n",
    "\n",
    "print(f'{list_of_rooms_name[index_biggest]}\\'s room is the largest.')\n"
   ]
  }
 ],
 "metadata": {
  "celltoolbar": "Slideshow",
  "kernelspec": {
   "display_name": "base",
   "language": "python",
   "name": "python3"
  },
  "language_info": {
   "codemirror_mode": {
    "name": "ipython",
    "version": 3
   },
   "file_extension": ".py",
   "mimetype": "text/x-python",
   "name": "python",
   "nbconvert_exporter": "python",
   "pygments_lexer": "ipython3",
   "version": "3.12.5"
  }
 },
 "nbformat": 4,
 "nbformat_minor": 4
}
